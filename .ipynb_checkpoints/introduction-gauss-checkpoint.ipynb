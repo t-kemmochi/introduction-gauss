{
 "cells": [
  {
   "cell_type": "code",
   "execution_count": 2,
   "metadata": {},
   "outputs": [
    {
     "data": {
      "text/plain": [
       "CG (generic function with 1 method)"
      ]
     },
     "execution_count": 2,
     "metadata": {},
     "output_type": "execute_result"
    }
   ],
   "source": [
    "# Step 1. このブロックをクリックしてください.\n",
    "# Step 2. Shiftキーを押しながらEnterキーを押してください\n",
    "using LinearAlgebra, SparseArrays\n",
    "\n",
    "# ガウスの消去法 (Gauss elimination) のアルゴリズム\n",
    "function GE(A,b)\n",
    "    n = length(b)\n",
    "    x = zeros(n)\n",
    "    for k=1:n-1\n",
    "        for i=k+1:n\n",
    "            for j=k+1:n\n",
    "                A[i,j] -= A[i,k]/A[k,k]*A[k,j]\n",
    "            end\n",
    "            b[i] -= A[i,k]/A[k,k]*b[k]\n",
    "        end\n",
    "    end\n",
    "    x[n] = b[n]/A[n,n]\n",
    "    for i=1:n-1\n",
    "        for j=0:i-1\n",
    "            b[n-i] -= A[n-i,n-j]*x[n-j]\n",
    "        end\n",
    "        x[n-i] = b[n-i]/A[n-i,n-i]\n",
    "    end\n",
    "    return x \n",
    "end\n",
    "\n",
    "# ガウスの消去法を有理数のまま扱うアルゴリズム (普通はしない)\n",
    "function GE_rational(A::Matrix{T},b::Vector{T}) where T<:Rational\n",
    "    n = length(b)\n",
    "    x = zeros(Rational,n)\n",
    "    for k=1:n-1\n",
    "        for i=k+1:n\n",
    "            for j=k+1:n\n",
    "                A[i,j] -= A[i,k]/A[k,k]*A[k,j]\n",
    "            end\n",
    "            b[i] -= A[i,k]/A[k,k]*b[k]\n",
    "        end\n",
    "    end\n",
    "    x[n] = b[n]/A[n,n]\n",
    "    for i=1:n-1\n",
    "        for j=0:i-1\n",
    "            b[n-i] -= A[n-i,n-j]*x[n-j]\n",
    "        end\n",
    "        x[n-i] = b[n-i]/A[n-i,n-i]\n",
    "    end\n",
    "    return x \n",
    "end\n",
    "\n",
    "# 共役勾配法 (きょうやくこうばいほう, conjugate gradient method) のアルゴリズム\n",
    "function CG(A,b;x0::Vector{Float64}=zeros(length(b)),tol::Float64=1.0e-12,imax::Int64=length(b))\n",
    "    r = b - A*x0 \n",
    "    p = copy(r)\n",
    "    x = copy(x0)\n",
    "    i = 0\n",
    "    res = 1.0\n",
    "    while i<imax && res>tol \n",
    "        r0 = copy(r)\n",
    "        q = A*p\n",
    "        a = r'*p/(p'*q)\n",
    "        x += a*p \n",
    "        r -= a*q \n",
    "        b = r'*r/(r0'*r0)\n",
    "        p = r+b*p \n",
    "        res = sqrt(r'*r)/sqrt(b'*b)\n",
    "        i += 1 \n",
    "    end\n",
    "    return x,i,res\n",
    "end"
   ]
  },
  {
   "cell_type": "code",
   "execution_count": 3,
   "metadata": {},
   "outputs": [
    {
     "name": "stdout",
     "output_type": "stream",
     "text": [
      "  0.026466 seconds (20.73 k allocations: 1.418 MiB, 99.90% compilation time)\n"
     ]
    },
    {
     "data": {
      "text/plain": [
       "3-element Vector{Float64}:\n",
       "  1.0000000000000002\n",
       " -1.0000000000000002\n",
       "  1.0"
      ]
     },
     "execution_count": 3,
     "metadata": {},
     "output_type": "execute_result"
    }
   ],
   "source": [
    "# ガウスの消去法で連立1次方程式を解く.\n",
    "# A は 方程式の左辺の係数を並べたもの (行列という)\n",
    "# b は 方程式の右辺の数値を並べたもの (ベクトル)\n",
    "# スペースと改行で区切ってください.\n",
    "A = [\n",
    "    3  2  3\n",
    "    2 -3  1\n",
    "    5  1 -2.0\n",
    "]\n",
    "b = [\n",
    "    4\n",
    "    6\n",
    "    2.0\n",
    "]\n",
    "@time x = GE(A,b)"
   ]
  },
  {
   "cell_type": "code",
   "execution_count": 4,
   "metadata": {},
   "outputs": [
    {
     "name": "stdout",
     "output_type": "stream",
     "text": [
      "  0.130737 seconds (579.58 k allocations: 39.772 MiB, 7.58% gc time, 99.97% compilation time)\n"
     ]
    },
    {
     "data": {
      "text/plain": [
       "3-element Vector{Rational}:\n",
       "  1//1\n",
       " -1//1\n",
       "  1//1"
      ]
     },
     "execution_count": 4,
     "metadata": {},
     "output_type": "execute_result"
    }
   ],
   "source": [
    "# ガウスの消去法で連立1次方程式を解く. \n",
    "# 有理数のまま扱うバージョン.\n",
    "# 普通のシミュレーションではこういうことはしません.\n",
    "A = [\n",
    "    3  2  3\n",
    "    2 -3  1\n",
    "    5  1 -2\n",
    "]//1\n",
    "b = [\n",
    "    4\n",
    "    6\n",
    "    2\n",
    "]//1\n",
    "@time x = GE_rational(A,b)"
   ]
  },
  {
   "cell_type": "code",
   "execution_count": 5,
   "metadata": {},
   "outputs": [
    {
     "data": {
      "text/plain": [
       "make_example (generic function with 1 method)"
      ]
     },
     "execution_count": 5,
     "metadata": {},
     "output_type": "execute_result"
    }
   ],
   "source": [
    "# 規模の大きな問題を作る. 入力nは未知数の個数.\n",
    "# 方程式は, n=4なら\n",
    "# \n",
    "#     2x_1  -x_2             = 2/n^2\n",
    "#     -x_1 +2x_2  -x_3       = 2/n^2\n",
    "#           -x_2 +2x_3  -x_4 = 2/n^2\n",
    "#                 -x_3 +2x_4 = 2/n^2\n",
    "# \n",
    "# nが大きいと, ほとんどの係数が0になっている.\n",
    "# 解は, x_i = i/(n+1)*(1-i/(n+1)) (i=1,2,...,n)\n",
    "function make_example(n)\n",
    "    u0 = 2*ones(n)\n",
    "    u1 = -ones(n-1)\n",
    "    A = spdiagm(0=>u0,1=>u1,-1=>u1)\n",
    "    b = 2*ones(n)/n^2\n",
    "    return A,b \n",
    "end"
   ]
  },
  {
   "cell_type": "code",
   "execution_count": 6,
   "metadata": {},
   "outputs": [
    {
     "name": "stdout",
     "output_type": "stream",
     "text": [
      "  0.088085 seconds (74.03 k allocations: 4.897 MiB, 99.36% compilation time)\n"
     ]
    }
   ],
   "source": [
    "# 中規模な問題をガウスの消去法で解く.\n",
    "n = 50\n",
    "A,b = make_example(n)\n",
    "@time x = GE(A,b);"
   ]
  },
  {
   "cell_type": "code",
   "execution_count": 7,
   "metadata": {},
   "outputs": [
    {
     "name": "stdout",
     "output_type": "stream",
     "text": [
      "  4.374315 seconds (2 allocations: 8.000 KiB)\n"
     ]
    }
   ],
   "source": [
    "# 大規模な問題をガウスの消去法で解く.\n",
    "n = 1000\n",
    "A,b = make_example(n)\n",
    "@time x1 = GE(A,b);"
   ]
  },
  {
   "cell_type": "code",
   "execution_count": 8,
   "metadata": {},
   "outputs": [
    {
     "name": "stdout",
     "output_type": "stream",
     "text": [
      "  0.136729 seconds (324.19 k allocations: 52.919 MiB, 5.24% gc time, 88.00% compilation time)\n"
     ]
    }
   ],
   "source": [
    "# 大規模な問題を共役勾配法で解く.\n",
    "n = 1000\n",
    "A,b = make_example(n)\n",
    "@time x2,i,res = CG(A,b);"
   ]
  },
  {
   "cell_type": "code",
   "execution_count": 9,
   "metadata": {},
   "outputs": [
    {
     "data": {
      "text/plain": [
       "9.026113190202523e-14"
      ]
     },
     "execution_count": 9,
     "metadata": {},
     "output_type": "execute_result"
    }
   ],
   "source": [
    "# 答え合わせ.\n",
    "# 2つのアルゴリズムで得た解の誤差を見る.\n",
    "# e-14 は 10 の -14乗 を意味する (10の14乗の逆数)\n",
    "norm(x1-x2, Inf)"
   ]
  },
  {
   "cell_type": "code",
   "execution_count": null,
   "metadata": {},
   "outputs": [],
   "source": []
  }
 ],
 "metadata": {
  "kernelspec": {
   "display_name": "Julia 1.9.2",
   "language": "julia",
   "name": "julia-1.9"
  },
  "language_info": {
   "file_extension": ".jl",
   "mimetype": "application/julia",
   "name": "julia",
   "version": "1.9.2"
  }
 },
 "nbformat": 4,
 "nbformat_minor": 4
}
