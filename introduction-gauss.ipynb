{
 "cells": [
  {
   "cell_type": "code",
   "execution_count": null,
   "metadata": {},
   "outputs": [],
   "source": [
    "# Step 1. このブロックをクリックしてください.\n",
    "# Step 2. Shiftキーを押しながらEnterキーを押してください\n",
    "include(\"introduction-gauss.jl\");"
   ]
  },
  {
   "cell_type": "code",
   "execution_count": null,
   "metadata": {},
   "outputs": [],
   "source": [
    "# ガウスの消去法 (Gauss elimination) で連立1次方程式を解く.\n",
    "# A は 方程式の左辺の係数を並べたもの (行列という)\n",
    "# b は 方程式の右辺の数値を並べたもの (ベクトル)\n",
    "# スペースと改行で区切ってください.\n",
    "A = [\n",
    "    3  2  3\n",
    "    2 -3  1\n",
    "    5  1 -2.0\n",
    "]\n",
    "b = [\n",
    "    4\n",
    "    6\n",
    "    2.0\n",
    "]\n",
    "# ガウスの消去法で連立1次方程式を解く関数\n",
    "@time x = GE(A,b)"
   ]
  },
  {
   "cell_type": "code",
   "execution_count": null,
   "metadata": {},
   "outputs": [],
   "source": [
    "# ガウスの消去法で連立1次方程式を解く. \n",
    "# 有理数のまま扱うバージョン.\n",
    "# 普通のシミュレーションではこういうことはしません.\n",
    "A = [\n",
    "    3  2  3\n",
    "    2 -3  1\n",
    "    5  1 -2\n",
    "]//1\n",
    "b = [\n",
    "    4\n",
    "    6\n",
    "    2\n",
    "]//1\n",
    "@time x = GE_rational(A,b)"
   ]
  },
  {
   "cell_type": "code",
   "execution_count": null,
   "metadata": {},
   "outputs": [],
   "source": [
    "# 中規模な問題をガウスの消去法で解く.\n",
    "n = 50\n",
    "A,b = make_example(n)\n",
    "@time x = GE(A,b);"
   ]
  },
  {
   "cell_type": "code",
   "execution_count": null,
   "metadata": {},
   "outputs": [],
   "source": [
    "# 答え合わせ. \n",
    "# 厳密解との誤差を見る. \n",
    "# e-15 は 1/10^15 を意味する.\n",
    "x0 = [j/(n+1)*(1-j/(n+1)) for j=1:n]\n",
    "norm(x-x0, Inf)"
   ]
  },
  {
   "cell_type": "code",
   "execution_count": null,
   "metadata": {},
   "outputs": [],
   "source": [
    "# 大規模な問題をガウスの消去法で解く.\n",
    "n = 1000\n",
    "A,b = make_example(n)\n",
    "@time x1 = GE(A,b);"
   ]
  },
  {
   "cell_type": "code",
   "execution_count": null,
   "metadata": {},
   "outputs": [],
   "source": [
    "# 大規模な問題を共役勾配法で解く.\n",
    "n = 1000\n",
    "A,b = make_example(n)\n",
    "@time x2,i,res = CG(A,b);"
   ]
  },
  {
   "cell_type": "code",
   "execution_count": null,
   "metadata": {},
   "outputs": [],
   "source": [
    "# 答え合わせ.\n",
    "# 2つのアルゴリズムで得た解の誤差を見る.\n",
    "# e-14 は 1/10^14 を意味する.\n",
    "norm(x1-x2, Inf)"
   ]
  },
  {
   "cell_type": "code",
   "execution_count": null,
   "metadata": {},
   "outputs": [],
   "source": []
  }
 ],
 "metadata": {
  "kernelspec": {
   "display_name": "Julia 1.9.2",
   "language": "julia",
   "name": "julia-1.9"
  },
  "language_info": {
   "file_extension": ".jl",
   "mimetype": "application/julia",
   "name": "julia",
   "version": "1.9.2"
  }
 },
 "nbformat": 4,
 "nbformat_minor": 4
}
