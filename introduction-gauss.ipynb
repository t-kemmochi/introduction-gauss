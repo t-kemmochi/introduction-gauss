{
 "cells": [
  {
   "cell_type": "code",
   "execution_count": null,
   "metadata": {},
   "outputs": [],
   "source": [
    "using LinearAlgebra, SparseArrays\n",
    "include(\"gauss_elimination.jl\")"
   ]
  },
  {
   "cell_type": "code",
   "execution_count": null,
   "metadata": {},
   "outputs": [],
   "source": [
    "A = [\n",
    "    3  2  3\n",
    "    2 -3  1\n",
    "    5  1 -2.0\n",
    "]\n",
    "b = [\n",
    "    4\n",
    "    6\n",
    "    2.0\n",
    "]\n",
    "@time x = gauss(A,b)"
   ]
  },
  {
   "cell_type": "code",
   "execution_count": null,
   "metadata": {},
   "outputs": [],
   "source": [
    "A = [\n",
    "    3  2  3\n",
    "    2 -3  1\n",
    "    5  1 -2\n",
    "]//1\n",
    "b = [\n",
    "    4\n",
    "    6\n",
    "    2\n",
    "]//1\n",
    "@time x = gauss_rational(A,b)"
   ]
  },
  {
   "cell_type": "code",
   "execution_count": null,
   "metadata": {},
   "outputs": [],
   "source": [
    "n = 1000\n",
    "u0 = 2*n^2*ones(n)\n",
    "u1 = -n^2*ones(n-1)\n",
    "A = spdiagm(0=>u0,1=>u1,-1=>u1)\n",
    "b = 2*ones(n);"
   ]
  },
  {
   "cell_type": "code",
   "execution_count": null,
   "metadata": {},
   "outputs": [],
   "source": [
    "@time x1 = gauss(A,b);"
   ]
  },
  {
   "cell_type": "code",
   "execution_count": null,
   "metadata": {},
   "outputs": [],
   "source": [
    "include(\"conjugate_gradient.jl\")"
   ]
  },
  {
   "cell_type": "code",
   "execution_count": null,
   "metadata": {},
   "outputs": [],
   "source": [
    "n = 1000\n",
    "u0 = 2*n^2*ones(n)\n",
    "u1 = -n^2*ones(n-1)\n",
    "A = spdiagm(0=>u0,1=>u1,-1=>u1)\n",
    "b = 2*ones(n);\n",
    "@time x2,i,res = CG(A,b);"
   ]
  },
  {
   "cell_type": "code",
   "execution_count": null,
   "metadata": {},
   "outputs": [],
   "source": [
    "norm(x1-x2, Inf)"
   ]
  },
  {
   "cell_type": "code",
   "execution_count": null,
   "metadata": {},
   "outputs": [],
   "source": []
  }
 ],
 "metadata": {
  "kernelspec": {
   "display_name": "Julia 1.9.2",
   "language": "julia",
   "name": "julia-1.9"
  },
  "language_info": {
   "file_extension": ".jl",
   "mimetype": "application/julia",
   "name": "julia",
   "version": "1.9.2"
  },
  "orig_nbformat": 4
 },
 "nbformat": 4,
 "nbformat_minor": 2
}
